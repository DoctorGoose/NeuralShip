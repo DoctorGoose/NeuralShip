{
 "cells": [
  {
   "cell_type": "code",
   "execution_count": null,
   "metadata": {},
   "outputs": [],
   "source": [
    "### Monte Carlo simulation of SBS games ###\n",
    "# Calculates the distribution of turns needed to complete games\n",
    "\n",
    "num_games = 1000000\n",
    "turns_required = []\n",
    "\n",
    "for _ in range(num_games):\n",
    "    tiles_remaining = list(range(100))\n",
    "    ships = random.sample(tiles_remaining, 5)\n",
    "    turns = 0\n",
    "\n",
    "    while ships:\n",
    "        turns += 1\n",
    "        shot = random.choice(tiles_remaining)\n",
    "        tiles_remaining.remove(shot)\n",
    "        if shot in ships:\n",
    "            ships.remove(shot)\n",
    "\n",
    "    turns_required.append(turns)\n",
    "\n",
    "mean_turns = statistics.mean(turns_required)\n",
    "median_turns = statistics.median(turns_required)\n",
    "std_dev_turns = statistics.stdev(turns_required)\n",
    "\n",
    "confidence_level = 0.95\n",
    "t_value = t.ppf((1 + confidence_level) / 2, num_games - 1)\n",
    "margin_error = t_value * std_dev_turns / math.sqrt(num_games)\n",
    "confidence_interval = (mean_turns - margin_error, mean_turns + margin_error)\n",
    "\n",
    "print(\"Mean turns:\", mean_turns)\n",
    "print(\"Median turns:\", median_turns)\n",
    "print(\"Standard deviation of turns:\", std_dev_turns)\n",
    "print(\"95% Confidence Interval:\", confidence_interval)\n",
    "\n",
    "# Plotting the distribution\n",
    "plt.hist(turns_required, bins=range(min(turns_required), max(turns_required) + 2), align='left')\n",
    "plt.xlabel(\"Number of Turns\")\n",
    "plt.ylabel(\"Frequency\")\n",
    "plt.title(\"Distribution of Turns Required to Hit All Ships\")\n",
    "plt.show()\n",
    "\n",
    "#Save the figure\n",
    "plt.savefig(\"Distribution of Turns Required to Hit All Ships.png\")"
   ]
  }
 ],
 "metadata": {
  "language_info": {
   "name": "python"
  },
  "orig_nbformat": 4
 },
 "nbformat": 4,
 "nbformat_minor": 2
}
